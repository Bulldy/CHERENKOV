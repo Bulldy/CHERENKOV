{
 "cells": [
  {
   "cell_type": "code",
   "execution_count": 1,
   "metadata": {
    "collapsed": true
   },
   "outputs": [],
   "source": [
    "import numpy as np\n",
    "import pandas as pd\n",
    "import matplotlib as mpl\n",
    "import matplotlib.pyplot as plt\n",
    "mpl.rcParams['mathtext.fontset'] = 'cm'\n",
    "mpl.rcParams.update({'errorbar.capsize': 2})"
   ]
  },
  {
   "cell_type": "code",
   "execution_count": 2,
   "metadata": {
    "collapsed": true
   },
   "outputs": [],
   "source": [
    "# Import all data from each text file\n",
    "# Append data to a large dataframe\n",
    "data=pd.DataFrame({'canal1t': [],'canal2t': [],'canal3t': [],'canal4t': [],'canal1q' : [],'canal2q' : [],'canal3q' : [],'canal4q' : [],'tiempo' : []})\n",
    "\n",
    "# List to iterate files\n",
    "i_files=np.arange(1,25)\n",
    "\n",
    "# Iterate each file and append the data to the main data frame\n",
    "for i in i_files:\n",
    "    cfile='12HORAS_12HORASDatos_'+str(i)+'.txt'\n",
    "    df_aux=pd.read_csv(cfile, engine='python',sep=\"\\t\", decimal=',',usecols=[0,1,2,3,4,5,6,7,8])\n",
    "    df_aux.columns = [\"canal1t\", \"canal2t\",\"canal3t\",\"canal4t\",\"canal1q\", \"canal2q\",\"canal3q\",\"canal4q\",\"tiempo\"]\n",
    "    \n",
    "    data=data.append(df_aux,ignore_index=True,sort=True)"
   ]
  },
  {
   "cell_type": "code",
   "execution_count": 3,
   "metadata": {},
   "outputs": [
    {
     "name": "stdout",
     "output_type": "stream",
     "text": [
      "6340\n",
      "5779\n"
     ]
    }
   ],
   "source": [
    "# Choose data whose TDC is on range\n",
    "# Choose data whose QDC is on range\n",
    "print(len(data))\n",
    "dataclean=data[(data.canal1t<4095.0)&(data.canal2t<4095.0)&(data.canal3t<4095.0)]\n",
    "dataclean=data[(data.canal1q<4095.0)&(data.canal2q<4095.0)&(data.canal3q<4095.0)]\n",
    "print(len(dataclean))\n",
    "data=dataclean"
   ]
  },
  {
   "cell_type": "code",
   "execution_count": 7,
   "metadata": {
    "collapsed": true
   },
   "outputs": [],
   "source": [
    "# Correction function based on Kobayashi/Sugitate 1990\n",
    "def f1(qq,A0):\n",
    "    toret=np.divide(A0,np.sqrt(qq))\n",
    "    return toret"
   ]
  },
  {
   "cell_type": "code",
   "execution_count": 8,
   "metadata": {
    "collapsed": true
   },
   "outputs": [],
   "source": [
    "# Correction function based on Braunschweig 1976\n",
    "def f2(qq,W,a0):\n",
    "    toret=W*(1.0/np.sqrt(a0)-1/np.sqrt(qq))\n",
    "    return toret"
   ]
  },
  {
   "cell_type": "code",
   "execution_count": 9,
   "metadata": {
    "collapsed": true
   },
   "outputs": [],
   "source": [
    "# Correction function based on Heilbronn 2004\n",
    "def f3(qq,a1,a2,a3):\n",
    "    toret=a1-a2*np.exp(a3/np.sqrt(qq))\n",
    "    return toret"
   ]
  },
  {
   "cell_type": "code",
   "execution_count": null,
   "metadata": {
    "collapsed": true
   },
   "outputs": [],
   "source": []
  }
 ],
 "metadata": {
  "kernelspec": {
   "display_name": "Python [conda env:anaconda]",
   "language": "python",
   "name": "conda-env-anaconda-py"
  },
  "language_info": {
   "codemirror_mode": {
    "name": "ipython",
    "version": 3
   },
   "file_extension": ".py",
   "mimetype": "text/x-python",
   "name": "python",
   "nbconvert_exporter": "python",
   "pygments_lexer": "ipython3",
   "version": "3.5.5"
  }
 },
 "nbformat": 4,
 "nbformat_minor": 2
}
